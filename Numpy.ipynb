{
  "nbformat": 4,
  "nbformat_minor": 0,
  "metadata": {
    "colab": {
      "provenance": [],
      "authorship_tag": "ABX9TyPCc5leD8DVadQCa49qCSj0",
      "include_colab_link": true
    },
    "kernelspec": {
      "name": "python3",
      "display_name": "Python 3"
    },
    "language_info": {
      "name": "python"
    }
  },
  "cells": [
    {
      "cell_type": "markdown",
      "metadata": {
        "id": "view-in-github",
        "colab_type": "text"
      },
      "source": [
        "<a href=\"https://colab.research.google.com/github/nagesh0024/Python_Libraries/blob/main/Numpy.ipynb\" target=\"_parent\"><img src=\"https://colab.research.google.com/assets/colab-badge.svg\" alt=\"Open In Colab\"/></a>"
      ]
    },
    {
      "cell_type": "code",
      "source": [
        "import numpy as np"
      ],
      "metadata": {
        "id": "D_RQfD6pefff"
      },
      "execution_count": null,
      "outputs": []
    },
    {
      "cell_type": "markdown",
      "source": [
        "#Q1. Create a NumPy array 'arr' of integers from 0 to 5 and print its data type.\n",
        "\n",
        "Answer :-"
      ],
      "metadata": {
        "id": "k458YNR1d6bB"
      }
    },
    {
      "cell_type": "code",
      "execution_count": null,
      "metadata": {
        "id": "lxcC3PjadOMS"
      },
      "outputs": [],
      "source": [
        "arr = np.arange(6)\n",
        "\n",
        "print(\"Array:\", arr)\n",
        "print(\"Data type:\", arr.dtype)"
      ]
    },
    {
      "cell_type": "markdown",
      "source": [
        "#Q2. Given a NumPy array 'arr', check if its data type is float64.\n",
        "# arr = np.array([1.5, 2.6, 3.7])\n",
        "\n",
        "Answer :-"
      ],
      "metadata": {
        "id": "mCWYrhjSd5BQ"
      }
    },
    {
      "cell_type": "code",
      "source": [
        "arr = np.array([1.5, 2.6, 3.7])\n",
        "\n",
        "is_float64 = arr.dtype == np.float64\n",
        "\n",
        "print(\"Is the data type float64?\", is_float64)"
      ],
      "metadata": {
        "id": "uCS9aBlTfZMq"
      },
      "execution_count": null,
      "outputs": []
    },
    {
      "cell_type": "markdown",
      "source": [
        "#Q3. Create a NumPy array 'arr' with a data type of complex128 containing three complex numbers.\n",
        "\n",
        "Answer :-"
      ],
      "metadata": {
        "id": "TqmViY5Hf2Uc"
      }
    },
    {
      "cell_type": "code",
      "source": [
        "arr = np.array([1+2j, 3+4j, 5+6j], dtype=np.complex128)\n",
        "\n",
        "print(\"Array:\", arr)\n",
        "print(\"Data type:\", arr.dtype)"
      ],
      "metadata": {
        "id": "E0Lv-9B7f9-w"
      },
      "execution_count": null,
      "outputs": []
    },
    {
      "cell_type": "markdown",
      "source": [
        "#Q4. Convert an existing NumPy array 'arr' of integers to float32 data type.\n",
        "\n",
        "answer :-"
      ],
      "metadata": {
        "id": "DUqVrEgFhEO1"
      }
    },
    {
      "cell_type": "code",
      "source": [
        "arr = np.array([1, 2, 3, 4, 5])\n",
        "\n",
        "arr_float32 = arr.astype(np.float32)\n",
        "\n",
        "print(\"Original array:\", arr)\n",
        "print(\"Original data type:\", arr.dtype)\n",
        "print(\"Converted array:\", arr_float32)\n",
        "print(\"Converted data type:\", arr_float32.dtype)"
      ],
      "metadata": {
        "id": "YCIj87TjhIV4"
      },
      "execution_count": null,
      "outputs": []
    },
    {
      "cell_type": "markdown",
      "source": [
        "#Q5. Given a NumPy array 'arr' with float64 data type, convert it to float32 to reduce decimal precision.\n",
        "\n",
        "Answer :-"
      ],
      "metadata": {
        "id": "yjeH6xmJhjnU"
      }
    },
    {
      "cell_type": "code",
      "source": [
        "arr_float64 = np.array([[1.234, 2.345], [3.456, 4.567]])\n",
        "\n",
        "arr_float32 = arr_float64.astype(np.float32)"
      ],
      "metadata": {
        "id": "RD5bivdchyzU"
      },
      "execution_count": null,
      "outputs": []
    },
    {
      "cell_type": "markdown",
      "source": [
        "#Q6. Write a function array_attributes that takes a NumPy array as input and returns its shape, size, and data type.\n",
        "\n",
        "Answer :-"
      ],
      "metadata": {
        "id": "o0B7BtLti3jU"
      }
    },
    {
      "cell_type": "code",
      "source": [
        "\n",
        "def array_attributes(arr):\n",
        "  shape = arr.shape\n",
        "  size = arr.size\n",
        "  dtype = arr.dtype\n",
        "  return shape, size, dtype\n",
        "\n",
        "arr = np.array([[1, 2, 3], [4, 5, 6]])\n",
        "shape, size, dtype = array_attributes(arr)\n",
        "print(\"Shape:\", shape)\n",
        "print(\"Size:\", size)\n",
        "print(\"Datatype:\", dtype)"
      ],
      "metadata": {
        "id": "RO2lk6l2jKqj"
      },
      "execution_count": null,
      "outputs": []
    },
    {
      "cell_type": "markdown",
      "source": [
        "#Q7. Create a function array_dimension that takes a NumPy array as input and returns its dimensionality.\n",
        "\n",
        "Answer :-"
      ],
      "metadata": {
        "id": "eVljWdUPkKun"
      }
    },
    {
      "cell_type": "code",
      "source": [
        "def array_dimension(arr):\n",
        "  return arr.ndim\n",
        "\n",
        "arr_1d = np.array([1, 2, 3])\n",
        "arr_2d = np.array([[1, 2, 3], [4, 5, 6]])\n",
        "arr_3d = np.array([[[1, 2], [3, 4]], [[5, 6], [7, 8]]])\n",
        "\n",
        "print(\"Dimensionality of arr_1d:\", array_dimension(arr_1d))\n",
        "print(\"Dimensionality of arr_2d:\", array_dimension(arr_2d))\n",
        "print(\"Dimensionality of arr_3d:\", array_dimension(arr_3d))"
      ],
      "metadata": {
        "id": "iWIU7JBHkYMq"
      },
      "execution_count": null,
      "outputs": []
    },
    {
      "cell_type": "markdown",
      "source": [
        "#Q8. Design a function item_size_info that takes a NumPy array as input and returns the item size and the total size in bytes.\n",
        "\n",
        "Answer :-"
      ],
      "metadata": {
        "id": "a9r4CBhZlWIR"
      }
    },
    {
      "cell_type": "code",
      "source": [
        "def item_size_info(arr):\n",
        "  item_size = arr.itemsize\n",
        "  total_size = arr.nbytes\n",
        "  return item_size, total_size\n",
        "\n",
        "array = np.array([[1.0, 2.0, 3.0], [4.0, 5.0, 6.0]], dtype=np.float64)\n",
        "\n",
        "item_size, total_size = item_size_info(array)\n",
        "\n",
        "print(f\"Item size: {item_size} bytes\")\n",
        "print(f\"Total size: {total_size} bytes\")"
      ],
      "metadata": {
        "id": "kZQu9G6nJy4b"
      },
      "execution_count": null,
      "outputs": []
    },
    {
      "cell_type": "markdown",
      "source": [
        "#Q9. Create a function array_strides that takes a NumPy array as input and returns the strides of the array.\n",
        "\n",
        "Answer :-"
      ],
      "metadata": {
        "id": "hiq3ymaBLTuC"
      }
    },
    {
      "cell_type": "code",
      "source": [
        "\n",
        "def array_strides(arr):\n",
        "  return arr.strides\n",
        "\n",
        "array = np.array([[1, 2, 3], [4, 5, 6]], dtype=np.int32)\n",
        "\n",
        "strides = array_strides(array)\n",
        "\n",
        "print(f\"Strides: {strides}\")"
      ],
      "metadata": {
        "id": "ZPsKIOJ-Lc4p"
      },
      "execution_count": null,
      "outputs": []
    },
    {
      "cell_type": "markdown",
      "source": [
        "#Q10. Design a function shape_stride_relationship that takes a NumPy array as input and returns the shape and strides of the array.\n",
        "\n",
        "Answer :-"
      ],
      "metadata": {
        "id": "46RbvVYFL-OD"
      }
    },
    {
      "cell_type": "code",
      "source": [
        "def shape_stride_relationship(arr):\n",
        "  shape = arr.shape\n",
        "  strides = arr.strides\n",
        "  return shape, strides\n",
        "\n",
        "array_3d = np.array([[[1, 2], [3, 4]], [[5, 6], [7, 8]]], dtype=np.float64)\n",
        "\n",
        "shape_3d, strides_3d = shape_stride_relationship(array_3d)\n",
        "\n",
        "print(f\"Shape: {shape_3d}\")\n",
        "print(f\"Strides: {strides_3d}\")"
      ],
      "metadata": {
        "id": "YYNBqiwrMGf-"
      },
      "execution_count": null,
      "outputs": []
    },
    {
      "cell_type": "markdown",
      "source": [
        "#Q11. Create a function create_zeros_array that takes an integer n as input and returns a NumPy array of zeros with n elements.\n",
        "\n",
        "Answer :-"
      ],
      "metadata": {
        "id": "PXtflpYgMyos"
      }
    },
    {
      "cell_type": "code",
      "source": [
        "\n",
        "def create_zeros_array(n,p):\n",
        "  return np.zeros((n,p))\n",
        "\n",
        "array = create_zeros_array(5,6)\n",
        "\n",
        "print(array)"
      ],
      "metadata": {
        "id": "gcpF48O2M9gu"
      },
      "execution_count": null,
      "outputs": []
    },
    {
      "cell_type": "markdown",
      "source": [
        "#Q12. Write a function create_ones_matrix that takes integers rows and cols as inputs and generates a 2D NumPy array filled with ones of size rows x cols.\n",
        "\n",
        "Answer :-"
      ],
      "metadata": {
        "id": "DIsR5ljRPLrI"
      }
    },
    {
      "cell_type": "code",
      "source": [
        "def create_ones_matrix(rows, cols):\n",
        "  return np.ones((rows, cols))\n",
        "\n",
        "matrix = create_ones_matrix(3, 4)\n",
        "\n",
        "print(matrix)"
      ],
      "metadata": {
        "id": "Zeq3HgsoPabE"
      },
      "execution_count": null,
      "outputs": []
    },
    {
      "cell_type": "markdown",
      "source": [
        "#Q13. Write a function generate_range_array that takes three integers start, stop, and step as arguments and creates a NumPy array with a range starting from start, ending at stop (exclusive), and with the specified step.\n",
        "Answer :-"
      ],
      "metadata": {
        "id": "jAwYTb6dQN0F"
      }
    },
    {
      "cell_type": "code",
      "source": [
        "def generate_range_array(start, stop, step):\n",
        "  return np.arange(start, stop, step)\n",
        "\n",
        "array = generate_range_array(0, 10, 2)\n",
        "\n",
        "print(array)"
      ],
      "metadata": {
        "id": "eK8x8AvoQdjD"
      },
      "execution_count": null,
      "outputs": []
    },
    {
      "cell_type": "markdown",
      "source": [
        "#Q14.  Design a function generate_linear_space that takes two floats start, stop, and an integer num as arguments and generates a NumPy array with num equally spaced values between start and stop (inclusive).\n",
        "\n",
        "Answer :-"
      ],
      "metadata": {
        "id": "hnkQDghiQ-ui"
      }
    },
    {
      "cell_type": "code",
      "source": [
        "\n",
        "def generate_linear_space(start, stop, num):\n",
        "  return np.linspace(start, stop, num)\n",
        "\n",
        "array = generate_linear_space(0.0, 1.0, 5)\n",
        "\n",
        "print(array)"
      ],
      "metadata": {
        "id": "PvxXVCQ3RS4m"
      },
      "execution_count": null,
      "outputs": []
    },
    {
      "cell_type": "markdown",
      "source": [
        "#Q15. Create a function create_identity_matrix that takes an integer n as input and generates a square identity matrix of size n x n using numpy.eye.\n",
        "\n",
        "Answer :-"
      ],
      "metadata": {
        "id": "iQrlgUj9RtBu"
      }
    },
    {
      "cell_type": "code",
      "source": [
        "def create_identity_matrix(n):\n",
        "  return np.eye(n)\n",
        "\n",
        "identity_matrix = create_identity_matrix(4)\n",
        "\n",
        "print(identity_matrix)"
      ],
      "metadata": {
        "id": "4oQxaH8YSDHJ"
      },
      "execution_count": null,
      "outputs": []
    },
    {
      "cell_type": "markdown",
      "source": [
        "#Q16. Write a function that takes a Python list and converts it into a NumPy array.\n",
        "\n",
        "Answer :-"
      ],
      "metadata": {
        "id": "4TXyrBAWSl8s"
      }
    },
    {
      "cell_type": "code",
      "source": [
        "\n",
        "def convert_list_to_array(py_list):\n",
        "  return np.array(py_list)\n",
        "\n",
        "py_list = [1, 2, 3, 4, 5]\n",
        "\n",
        "array = convert_list_to_array(py_list)\n",
        "\n",
        "print(array)"
      ],
      "metadata": {
        "id": "z3AWebb2Ssi_"
      },
      "execution_count": null,
      "outputs": []
    },
    {
      "cell_type": "markdown",
      "source": [
        "#Q17. Create a NumPy array and demonstrate the use of numpy.view to create a new array object with the same data.\n",
        "\n",
        "Answer :-"
      ],
      "metadata": {
        "id": "nq4qTyoiTI9s"
      }
    },
    {
      "cell_type": "code",
      "source": [
        "original_array = np.array([[1, 2, 3], [4, 5, 6]])\n",
        "\n",
        "view_array = original_array.view()\n",
        "\n",
        "print(\"Original Array:\")\n",
        "print(original_array)\n",
        "print(\"\\nView Array:\")\n",
        "print(view_array)"
      ],
      "metadata": {
        "colab": {
          "base_uri": "https://localhost:8080/"
        },
        "id": "HnysJZmmTURg",
        "outputId": "fe39b982-7e46-4913-8070-c1b23c67ae41"
      },
      "execution_count": null,
      "outputs": [
        {
          "output_type": "stream",
          "name": "stdout",
          "text": [
            "Original Array:\n",
            "[[1 2 3]\n",
            " [4 5 6]]\n",
            "\n",
            "View Array:\n",
            "[[1 2 3]\n",
            " [4 5 6]]\n"
          ]
        }
      ]
    },
    {
      "cell_type": "markdown",
      "source": [
        "#Q18. Write a function that takes two NumPy arrays and concatenates them along a specified axis.\n",
        "\n",
        "Answer :-"
      ],
      "metadata": {
        "id": "69qcQp_PT6Rf"
      }
    },
    {
      "cell_type": "code",
      "source": [
        "def concatenate_arrays(array1, array2, axis=0):\n",
        "  return np.concatenate((array1, array2), axis=axis)\n",
        "\n",
        "array1 = np.array([[1, 2], [3, 4]])\n",
        "array2 = np.array([[5, 6]])\n",
        "\n",
        "result = concatenate_arrays(array1, array2, axis=0)\n",
        "\n",
        "print(\"Concatenated Array:\")\n",
        "print(result)"
      ],
      "metadata": {
        "id": "ozrACxAuUCZs"
      },
      "execution_count": null,
      "outputs": []
    },
    {
      "cell_type": "markdown",
      "source": [
        "#Q19. Create two NumPy arrays with different shapes and concatenate them horizontally using numpy.concatenate.\n",
        "\n",
        "Answer :-"
      ],
      "metadata": {
        "id": "Ski995x-UcgT"
      }
    },
    {
      "cell_type": "code",
      "source": [
        "array1 = np.array([[1, 2, 3], [4, 5, 6]])\n",
        "array2 = np.array([[7], [8]])\n",
        "\n",
        "result = np.concatenate((array1, array2), axis=1)\n",
        "\n",
        "print(\"Concatenated Array:\")\n",
        "print(result)"
      ],
      "metadata": {
        "id": "0gyy-9p3UvD8"
      },
      "execution_count": null,
      "outputs": []
    },
    {
      "cell_type": "markdown",
      "source": [
        "#Q20. Write a function that vertically stacks multiple NumPy arrays given as a list.\n",
        "\n",
        "Answer :-"
      ],
      "metadata": {
        "id": "yvX5KdqZVIX-"
      }
    },
    {
      "cell_type": "code",
      "source": [
        "\n",
        "def stack_arrays_vertically(arrays):\n",
        "  return np.vstack(arrays)\n",
        "\n",
        "array1 = np.array([[1, 2, 3], [4, 5, 6]])\n",
        "array2 = np.array([[7, 8, 9]])\n",
        "array3 = np.array([[10, 11, 12], [13, 14, 15]])\n",
        "\n",
        "stacked_array = stack_arrays_vertically([array1, array2, array3])\n",
        "\n",
        "print(\"Vertically Stacked Array:\")\n",
        "print(stacked_array)"
      ],
      "metadata": {
        "id": "WCFFilUIVa-Q"
      },
      "execution_count": null,
      "outputs": []
    },
    {
      "cell_type": "markdown",
      "source": [
        "#Q21. Write a Python function using NumPy to create an array of integers within a specified range (inclusive) with a given step size.\n",
        "\n",
        "Answer :-"
      ],
      "metadata": {
        "id": "4mxN5trJV8fd"
      }
    },
    {
      "cell_type": "code",
      "source": [
        "\n",
        "def create_integer_array(start, stop, step):\n",
        "  return np.arange(start, stop + 1, step, dtype=int)\n",
        "\n",
        "array = create_integer_array(1, 10, 2)\n",
        "\n",
        "print(array)"
      ],
      "metadata": {
        "id": "sFlU-mJnWEVT"
      },
      "execution_count": null,
      "outputs": []
    },
    {
      "cell_type": "markdown",
      "source": [
        "#Q22. Write a Python function using NumPy to generate an array of 10 equally spaced values between 0 and 1 (inclusive).\n",
        "\n",
        "Answer :-"
      ],
      "metadata": {
        "id": "pq6qmYnxW9LU"
      }
    },
    {
      "cell_type": "code",
      "source": [
        "def generate_equally_spaced_values():\n",
        "  return np.linspace(0, 1, 10)\n",
        "\n",
        "array = generate_equally_spaced_values()\n",
        "\n",
        "print(array)"
      ],
      "metadata": {
        "id": "YoOS9K95XUc7"
      },
      "execution_count": null,
      "outputs": []
    },
    {
      "cell_type": "markdown",
      "source": [
        "#Q23. Write a Python function using NumPy to create an array of 5 logarithmically spaced values between 1 and 1000 (inclusive).\n",
        "\n",
        "Answer :-"
      ],
      "metadata": {
        "id": "PbKZifbvXfFK"
      }
    },
    {
      "cell_type": "code",
      "source": [
        "def generate_logarithmically_spaced_values():\n",
        "  return np.logspace(0, 3, 5)\n",
        "\n",
        "array = generate_logarithmically_spaced_values()\n",
        "\n",
        "print(array)"
      ],
      "metadata": {
        "id": "GS7gP403XriC"
      },
      "execution_count": null,
      "outputs": []
    },
    {
      "cell_type": "markdown",
      "source": [
        "#Q24. Create a Pandas DataFrame using a NumPy array that contains 5 rows and 3 columns, where the values are random integers between 1 and 100.\n",
        "\n",
        "Answer :-"
      ],
      "metadata": {
        "id": "hvaxukZAYnEM"
      }
    },
    {
      "cell_type": "code",
      "source": [
        "import pandas as pd"
      ],
      "metadata": {
        "id": "nJdKT-_Znsu0"
      },
      "execution_count": null,
      "outputs": []
    },
    {
      "cell_type": "code",
      "source": [
        "np.random.seed(0)\n",
        "data = np.random.randint(1, 101, size=(5, 3))\n",
        "\n",
        "df = pd.DataFrame(data, columns=['Column 1', 'Column 2', 'Column 3'])\n",
        "\n",
        "print(df)"
      ],
      "metadata": {
        "id": "zeZjVOGjY7A1"
      },
      "execution_count": null,
      "outputs": []
    },
    {
      "cell_type": "markdown",
      "source": [
        "#Q25. Write a function that takes a Pandas DataFrame and replaces all negative values in a specific column with zeros. Use NumPy operations within the Pandas DataFrame.\n",
        "\n",
        "Answer :-"
      ],
      "metadata": {
        "id": "JiTN3R5NZTh1"
      }
    },
    {
      "cell_type": "code",
      "source": [
        "def replace_negatives_with_zeros(df, column_name):\n",
        "  df[column_name] = df[column_name].apply(lambda x: np.maximum(x, 0))\n",
        "  return df\n",
        "\n",
        "data = np.random.randint(-10, 10, size=(5, 3))\n",
        "\n",
        "df1 = pd.DataFrame(data, columns=['Column 1', 'Column 2', 'Column 3'])\n",
        "print('Original df')\n",
        "print(df1)\n",
        "\n",
        "df2 = replace_negatives_with_zeros(df1, 'Column 2')\n",
        "print('\\nReplace negative values in Column2 with zeros')\n",
        "print(df2)"
      ],
      "metadata": {
        "id": "4JI8ClyoaL-g"
      },
      "execution_count": null,
      "outputs": []
    },
    {
      "cell_type": "markdown",
      "source": [
        "#Q26. Access the 3rd element from the given NumPy array.\n",
        "#arr = np.array([10,20,30,40,50])\n",
        "\n",
        "Answer :-"
      ],
      "metadata": {
        "id": "9sNbMy62gzQL"
      }
    },
    {
      "cell_type": "code",
      "source": [
        "arr = np.array([10, 20, 30, 40, 50])\n",
        "\n",
        "third_element = arr[2]\n",
        "\n",
        "third_element"
      ],
      "metadata": {
        "id": "6KQHl4jXhL2w"
      },
      "execution_count": null,
      "outputs": []
    },
    {
      "cell_type": "markdown",
      "source": [
        "#Q27. Retrieve the element at index (1, 2) from the 2D NumPy array.\n",
        "#arr_2d = np.array([[1, 2, 3], [4, 5, 6], [7, 8, 9]])\n",
        "\n",
        "Answer :-"
      ],
      "metadata": {
        "id": "fdLyg6VAhZkd"
      }
    },
    {
      "cell_type": "code",
      "source": [
        "arr_2d = np.array([[1, 2, 3], [4, 5, 6], [7, 8, 9]])\n",
        "\n",
        "element = arr_2d[1, 2]\n",
        "\n",
        "element\n"
      ],
      "metadata": {
        "id": "E9mKaijQic1t"
      },
      "execution_count": null,
      "outputs": []
    },
    {
      "cell_type": "markdown",
      "source": [
        "#Q28.Using boolean indexing, extract elements greater than 5 from the given NumPy array.\n",
        "#arr = np.array([3,8,2,10,5,7])\n",
        "\n",
        "Answer :-"
      ],
      "metadata": {
        "id": "fFTPYrYBireO"
      }
    },
    {
      "cell_type": "code",
      "source": [
        "arr = np.array([3, 8, 2, 10, 5, 7])\n",
        "\n",
        "result = arr[arr > 5]\n",
        "\n",
        "result"
      ],
      "metadata": {
        "id": "CkscqTyTi9QG"
      },
      "execution_count": null,
      "outputs": []
    },
    {
      "cell_type": "markdown",
      "source": [
        "#Q29. Perform basic slicing to extract elements from index 2 to 5 (inclusive) from the given NumPy array.\n",
        "#arr = np.array([1, 2, 3, 4, 5, 6, 7, 8, 9])"
      ],
      "metadata": {
        "id": "mZY2dlCVjPJH"
      }
    },
    {
      "cell_type": "code",
      "source": [
        "arr = np.array([1, 2, 3, 4, 5, 6, 7, 8, 9])\n",
        "\n",
        "sliced_array = arr[2:6]\n",
        "\n",
        "sliced_array"
      ],
      "metadata": {
        "id": "-wuFwomijYYS"
      },
      "execution_count": null,
      "outputs": []
    },
    {
      "cell_type": "markdown",
      "source": [
        "#Q30. Slice the 2D NumPy array to extract the sub-array [[2, 3], [5, 6]] from the given array.\n",
        "#arr_2d = np.array([[1, 2, 3],[4, 5, 6],[7, 8, 9]])\n",
        "\n",
        "Answer :-"
      ],
      "metadata": {
        "id": "sd52FOCqjli5"
      }
    },
    {
      "cell_type": "code",
      "source": [
        "arr_2d = np.array([[1, 2, 3], [4, 5, 6], [7, 8, 9]])\n",
        "\n",
        "sub_array = arr_2d[0:2, 1:3]\n",
        "\n",
        "print(sub_array)"
      ],
      "metadata": {
        "id": "8YzxNphOj2UA"
      },
      "execution_count": null,
      "outputs": []
    },
    {
      "cell_type": "markdown",
      "source": [
        "#Q31. Write a NumPy function to extract elements in specific order from a given 2D array based on indices provided in another array."
      ],
      "metadata": {
        "id": "uICMN7Mokexy"
      }
    },
    {
      "cell_type": "code",
      "source": [
        "def extract_elements(arr, indices):\n",
        "  if indices.shape != arr.shape:\n",
        "    raise ValueError(\"Indices array must have the same shape as the input array.\")\n",
        "\n",
        "  extracted_elements = np.take_along_axis(arr, indices, axis=1)\n",
        "\n",
        "  return extracted_elements\n",
        "\n",
        "arr_2d = np.array([[1, 2, 3], [4, 5, 6], [7, 8, 9]])\n",
        "indices = np.array([[0, 2, 1], [2, 0, 1], [1, 0, 2]])\n",
        "\n",
        "result = extract_elements(arr_2d, indices)\n",
        "print(result)"
      ],
      "metadata": {
        "id": "180ktd2kkr58"
      },
      "execution_count": null,
      "outputs": []
    },
    {
      "cell_type": "markdown",
      "source": [
        "#Q32. Create a NumPy function that filters elements greater than a threshold from a given 1D array using boolean indexing.\n",
        "\n",
        "Answer :-"
      ],
      "metadata": {
        "id": "Kw0MYj72mu0z"
      }
    },
    {
      "cell_type": "code",
      "source": [
        "def filter_elements_greater_than_threshold(arr, threshold):\n",
        "  filtered_elements = arr[arr > threshold]\n",
        "\n",
        "  return filtered_elements\n",
        "\n",
        "arr = np.array([3, 8, 2, 10, 5, 7])\n",
        "threshold = 5\n",
        "\n",
        "filtered_result = filter_elements_greater_than_threshold(arr, threshold)\n",
        "print(filtered_result)"
      ],
      "metadata": {
        "id": "Bhyk8WfVm6dB"
      },
      "execution_count": null,
      "outputs": []
    },
    {
      "cell_type": "markdown",
      "source": [
        "#Q33. Develop a NumPy function that extracts specific elements from a 3D array using indices provided in three separate arrays for each dimension.\n",
        "\n",
        "Answer :-"
      ],
      "metadata": {
        "id": "C5PzDNVMnmJe"
      }
    },
    {
      "cell_type": "code",
      "source": [
        "\n",
        "def extract_elements_3d(arr, idx_x, idx_y, idx_z):\n",
        "  if not (len(idx_x) == len(idx_y) == len(idx_z)):\n",
        "    raise ValueError(\"Index arrays must have the same length.\")\n",
        "\n",
        "  indices = np.stack((idx_x, idx_y, idx_z), axis=-1)\n",
        "\n",
        "  extracted_elements = arr[tuple(indices.T)]\n",
        "\n",
        "  return extracted_elements\n",
        "\n",
        "arr_3d = np.array([[[1, 2, 3], [4, 5, 6], [7, 8, 9]],\n",
        "                   [[10, 11, 12], [13, 14, 15], [16, 17, 18]],\n",
        "                   [[19, 20, 21], [22, 23, 24], [25, 26, 27]]])\n",
        "\n",
        "idx_x = np.array([0, 1, 2])\n",
        "idx_y = np.array([1, 2, 0])\n",
        "idx_z = np.array([2, 0, 1])\n",
        "\n",
        "extracted_result = extract_elements_3d(arr_3d, idx_x, idx_y, idx_z)\n",
        "print(extracted_result)"
      ],
      "metadata": {
        "id": "1GAUM7GAn3iC"
      },
      "execution_count": null,
      "outputs": []
    },
    {
      "cell_type": "markdown",
      "source": [
        "#Q34. Write a NumPy function that returns elements from an array where both two conditions are satisfied using boolean indexing.\n",
        "\n",
        "Answer :-"
      ],
      "metadata": {
        "id": "TqYIGBSHqYP1"
      }
    },
    {
      "cell_type": "code",
      "source": [
        "def filter_elements_by_conditions(arr, condition1, condition2):\n",
        "  mask = condition1(arr) & condition2(arr)\n",
        "\n",
        "  filtered_elements = arr[mask]\n",
        "\n",
        "  return filtered_elements\n",
        "\n",
        "arr = np.array([3, 8, 2, 10, 5, 7])\n",
        "\n",
        "condition1 = lambda x: x > 5\n",
        "condition2 = lambda x: x % 2 == 0\n",
        "\n",
        "filtered_result = filter_elements_by_conditions(arr, condition1, condition2)\n",
        "print(filtered_result)"
      ],
      "metadata": {
        "id": "mbEtmz0BqiKC"
      },
      "execution_count": null,
      "outputs": []
    },
    {
      "cell_type": "markdown",
      "source": [
        "#Q35. Create a NumPy function that extracts elements from a 2D array using row and column indices provided in separate arrays.\n",
        "\n",
        "Answer :-"
      ],
      "metadata": {
        "id": "-wzTPX0YrRxl"
      }
    },
    {
      "cell_type": "code",
      "source": [
        "def extract_elements(arr, row_indices, col_indices):\n",
        "  return arr[row_indices, col_indices]\n",
        "\n",
        "arr = np.array([[1, 2, 3], [4, 5, 6], [7, 8, 9]])\n",
        "row_indices = np.array([0, 1, 2])\n",
        "col_indices = np.array([0, 1, 2])\n",
        "\n",
        "result = extract_elements(arr, row_indices, col_indices)\n",
        "print(result)"
      ],
      "metadata": {
        "id": "ww-Y2KCoriRK"
      },
      "execution_count": null,
      "outputs": []
    },
    {
      "cell_type": "markdown",
      "source": [
        "#Q36. Given an array arr of shape (3, 3), add a scalar value of 5 to each element using NumPy broadcasting.\n",
        "\n",
        "Answer :-"
      ],
      "metadata": {
        "id": "VF_ckx8QsVku"
      }
    },
    {
      "cell_type": "code",
      "source": [
        "arr = np.array([[1, 2, 3],\n",
        "                [4, 5, 6],\n",
        "                [7, 8, 9]])\n",
        "\n",
        "result = arr + 5\n",
        "\n",
        "print(result)"
      ],
      "metadata": {
        "id": "tBR575rVsb3R"
      },
      "execution_count": null,
      "outputs": []
    },
    {
      "cell_type": "markdown",
      "source": [
        "#Q38. Given a 1D array arr1 of shape (1, 4) and a 2D array arr2 of shape (4, 3), add arr1 to each row of arr2 using NumPy broadcasting.\n",
        "\n",
        "Answer :-"
      ],
      "metadata": {
        "id": "Fue4lTyNss1y"
      }
    },
    {
      "cell_type": "code",
      "source": [
        "arr1 = np.array([[1, 2, 3, 4]])\n",
        "arr2 = np.array([[5, 6, 7],\n",
        "                 [8, 9, 10],\n",
        "                 [11, 12, 13],\n",
        "                 [14, 15, 16]])\n",
        "\n",
        "arr2_T = arr2.T\n",
        "\n",
        "result_T = arr2_T + arr1\n",
        "\n",
        "result = result_T.T\n",
        "\n",
        "print(result)"
      ],
      "metadata": {
        "id": "CiV6G2wUs02j"
      },
      "execution_count": null,
      "outputs": []
    },
    {
      "cell_type": "markdown",
      "source": [
        "#Q39. Consider two arrays arr1 of shape (3, 1) and arr2 of shape (1, 3). Add these arrays using NumPy broadcasting.\n",
        "\n",
        "Answer :-"
      ],
      "metadata": {
        "id": "gKhzgBQkm7l1"
      }
    },
    {
      "cell_type": "code",
      "source": [
        "arr1 = np.array([[1], [2], [3]])\n",
        "arr2 = np.array([[4, 5, 6]])\n",
        "\n",
        "result = arr1 + arr2\n",
        "\n",
        "print(result)"
      ],
      "metadata": {
        "id": "Rx2L6b6inEXv"
      },
      "execution_count": null,
      "outputs": []
    },
    {
      "cell_type": "markdown",
      "source": [
        "#Q41. Calculate column wise mean for the given array:\n",
        "#arr = np.array([[1,2,3],[4,5,6]])\n",
        "\n",
        "Answer :-"
      ],
      "metadata": {
        "id": "dH_XL6Pxn0CZ"
      }
    },
    {
      "cell_type": "code",
      "source": [
        "arr = np.array([[1, 2, 3],\n",
        "                [4, 5, 6]])\n",
        "\n",
        "column_mean = np.mean(arr, axis=0)\n",
        "\n",
        "print(\"Column-wise mean:\")\n",
        "print(column_mean)"
      ],
      "metadata": {
        "id": "liCmgi--n7QN"
      },
      "execution_count": null,
      "outputs": []
    },
    {
      "cell_type": "markdown",
      "source": [
        "#Q42. Find maximum value in each row of the given array:\n",
        "#arr = np.array([[1, 2, 3], [4, 5, 6]])\n",
        "\n",
        "Answer :-"
      ],
      "metadata": {
        "id": "P9dlg3EFyEGU"
      }
    },
    {
      "cell_type": "code",
      "source": [
        "arr = np.array([[1, 2, 3],\n",
        "                [4, 5, 6]])\n",
        "\n",
        "row_max = np.max(arr, axis=1)\n",
        "\n",
        "print(\"Maximum value in each row:\")\n",
        "print(row_max)"
      ],
      "metadata": {
        "id": "0OlIQGK1yTEp"
      },
      "execution_count": null,
      "outputs": []
    },
    {
      "cell_type": "markdown",
      "source": [
        "#Q43. For the given array, find indices of maximum value in each column.\n",
        "#arr = np.array([[1, 2, 3], [4, 5, 6]])\n",
        "\n",
        "Answer :-"
      ],
      "metadata": {
        "id": "M53ennKry1aV"
      }
    },
    {
      "cell_type": "code",
      "source": [
        "arr = np.array([[1, 2, 3],\n",
        "                [4, 5, 6]])\n",
        "\n",
        "column_max_indices = np.argmax(arr, axis=0)\n",
        "\n",
        "print(\"Indices of maximum values in each column:\")\n",
        "print(column_max_indices)"
      ],
      "metadata": {
        "id": "uocOf1Vxy083"
      },
      "execution_count": null,
      "outputs": []
    },
    {
      "cell_type": "markdown",
      "source": [
        "#Q44. For the given array, apply custom function to calculate moving sum along rows.\n",
        "#arr = np.array([[1, 2, 3], [4, 5, 6]])\n",
        "\n",
        "Answer :-"
      ],
      "metadata": {
        "id": "34UhLBaS0LHL"
      }
    },
    {
      "cell_type": "code",
      "source": [
        "def moving_sum(arr, window_size=2):\n",
        "  result = []\n",
        "  for row in arr:\n",
        "    row_result = []\n",
        "    for i in range(len(row) - window_size + 1):\n",
        "      row_result.append(np.sum(row[i:i + window_size]))\n",
        "    result.append(row_result)\n",
        "  return np.array(result)\n",
        "\n",
        "arr = np.array([[1, 2, 3],\n",
        "                [4, 5, 6]])\n",
        "\n",
        "print(\"Original array:\")\n",
        "print(arr)\n",
        "\n",
        "moving_sum_result = moving_sum(arr, window_size=2)\n",
        "\n",
        "print(\"Moving sum along rows:\")\n",
        "print(moving_sum_result)"
      ],
      "metadata": {
        "id": "-xo7coEu0f4N"
      },
      "execution_count": null,
      "outputs": []
    },
    {
      "cell_type": "markdown",
      "source": [
        "#Q45. In the given array, check if all elements in each column are even.\n",
        "#arr = np.array([[2, 4, 6], [3, 5, 7]])\n",
        "\n",
        "Answer :-"
      ],
      "metadata": {
        "id": "UgOPC9rJrat2"
      }
    },
    {
      "cell_type": "code",
      "source": [
        "arr = np.array([[2, 4, 6],\n",
        "                [3, 5, 7]])\n",
        "\n",
        "all_even_columns = np.all(arr % 2 == 0, axis=0)\n",
        "\n",
        "print(\"Are all elements in each column even?\")\n",
        "print(all_even_columns)"
      ],
      "metadata": {
        "id": "9fVhjG7Yroqq"
      },
      "execution_count": null,
      "outputs": []
    },
    {
      "cell_type": "markdown",
      "source": [
        "#Q46. Given a NumPy array arr, reshape it into a matrix of dimensions m rows and n columns. Return the reshaped matrix.\n",
        "#original_array = np.array([1, 2, 3, 4, 5, 6])\n",
        "\n",
        "Answer :-"
      ],
      "metadata": {
        "id": "2N4VfrHtsLxx"
      }
    },
    {
      "cell_type": "code",
      "source": [
        "def reshape_matrix(original_array, m, n):\n",
        "  reshaped_matrix = original_array.reshape(m, n)\n",
        "  return reshaped_matrix\n",
        "\n",
        "original_array = np.array([1, 2, 3, 4, 5, 6])\n",
        "\n",
        "m = 2\n",
        "n = 3\n",
        "\n",
        "reshaped_matrix = reshape_matrix(original_array, m, n)\n",
        "\n",
        "print(\"Reshaped matrix:\")\n",
        "print(reshaped_matrix)"
      ],
      "metadata": {
        "id": "m1Va68P6sXFo"
      },
      "execution_count": null,
      "outputs": []
    },
    {
      "cell_type": "markdown",
      "source": [
        "#Q47. Create a function that takes a matrix as input and returns the flattened array.\n",
        "#input_matrix = np.array([[1, 2, 3], [4, 5, 6]])\n",
        "\n",
        "Answer :-"
      ],
      "metadata": {
        "id": "7XpOtK0ns23v"
      }
    },
    {
      "cell_type": "code",
      "source": [
        "def flatten_matrix(input_matrix):\n",
        "  flattened_array = input_matrix.flatten()\n",
        "  return flattened_array\n",
        "\n",
        "input_matrix = np.array([[1, 2, 3], [4, 5, 6]])\n",
        "\n",
        "flattened_array = flatten_matrix(input_matrix)\n",
        "\n",
        "print(\"Flattened array:\")\n",
        "print(flattened_array)"
      ],
      "metadata": {
        "id": "bNf5FtwetC8U"
      },
      "execution_count": null,
      "outputs": []
    },
    {
      "cell_type": "markdown",
      "source": [
        "#Q48. Write a function that concatenates two given arrays along a specified axis\n",
        "#array1 = np.array([[1, 2], [3, 4]])\n",
        "#array2 = np.array([[5, 6], [7, 8]])\n",
        "\n",
        "Answer :-"
      ],
      "metadata": {
        "id": "nuAVWGtJteKM"
      }
    },
    {
      "cell_type": "code",
      "source": [
        "def concatenate_arrays(array1, array2, axis=0):\n",
        "  concatenated_array = np.concatenate((array1, array2), axis=axis)\n",
        "  return concatenated_array\n",
        "\n",
        "array1 = np.array([[1, 2], [3, 4]])\n",
        "array2 = np.array([[5, 6], [7, 8]])\n",
        "\n",
        "concatenated_array_axis0 = concatenate_arrays(array1, array2)\n",
        "print(\"Concatenated array along axis 0:\")\n",
        "print(concatenated_array_axis0)\n",
        "\n",
        "concatenated_array_axis1 = concatenate_arrays(array1, array2, axis=1)\n",
        "print(\"\\nConcatenated array along axis 1:\")\n",
        "print(concatenated_array_axis1)"
      ],
      "metadata": {
        "id": "n-5hWB0MtrSY"
      },
      "execution_count": null,
      "outputs": []
    },
    {
      "cell_type": "markdown",
      "source": [
        "#Q49. Create a function that splits an array into multiple sub-arrays along a specified axis.\n",
        "#original_array = np.array([[1, 2, 3], [4, 5, 6], [7, 8, 9]])\n",
        "\n",
        "Answer :-"
      ],
      "metadata": {
        "id": "Bj1-4z5yuXvI"
      }
    },
    {
      "cell_type": "code",
      "source": [
        "def split_array(original_array, axis=0, indices_or_sections=2):\n",
        "  split_arrays = np.split(original_array, indices_or_sections, axis=axis)\n",
        "  return split_arrays\n",
        "\n",
        "original_array = np.array([[1, 2, 3], [4, 5, 6], [7, 8, 9]])\n",
        "\n",
        "split_arrays_axis0 = split_array(original_array, axis=0, indices_or_sections=3)\n",
        "print(\"Split arrays along axis 0:\")\n",
        "for arr in split_arrays_axis0:\n",
        "  print(arr)\n",
        "\n",
        "split_arrays_axis1 = split_array(original_array, axis=1, indices_or_sections=3)\n",
        "print(\"\\nSplit arrays along axis 1:\")\n",
        "for arr in split_arrays_axis1:\n",
        "    print(arr)"
      ],
      "metadata": {
        "id": "GpBBm4Hqukh0"
      },
      "execution_count": null,
      "outputs": []
    },
    {
      "cell_type": "markdown",
      "source": [
        "#Q50. Write a function that inserts and then deletes elements from a given array at specified indices.\n",
        "#original_array = np.array([1, 2, 3, 4, 5])\n",
        "#indices_to_insert = [2, 4]\n",
        "#values_to_insert = [10, 11]\n",
        "#indices_to_delete = [1, 3]\n",
        "\n",
        "Answer :-"
      ],
      "metadata": {
        "id": "fJFMuWYOvnj5"
      }
    },
    {
      "cell_type": "code",
      "source": [
        "def insert_and_delete_elements(original_array, indices_to_insert, values_to_insert, indices_to_delete):\n",
        "  modified_array = np.insert(original_array, indices_to_insert, values_to_insert)\n",
        "\n",
        "  modified_array = np.delete(modified_array, indices_to_delete)\n",
        "\n",
        "  return modified_array\n",
        "\n",
        "original_array = np.array([1, 2, 3, 4, 5])\n",
        "indices_to_insert = [2, 4]\n",
        "values_to_insert = [10, 11]\n",
        "indices_to_delete = [1, 3]\n",
        "\n",
        "modified_array = insert_and_delete_elements(original_array, indices_to_insert, values_to_insert, indices_to_delete)\n",
        "\n",
        "print(\"Modified array:\")\n",
        "print(modified_array)"
      ],
      "metadata": {
        "id": "Wy4BueqewPDh"
      },
      "execution_count": null,
      "outputs": []
    },
    {
      "cell_type": "markdown",
      "source": [
        "#Q51. Create a NumPy array arr1 with random integers and another array arr2 with integers from 1 to 10. Perform element-wise addition between arr1 and arr2.\n",
        "\n",
        "Answer :-"
      ],
      "metadata": {
        "id": "R51CC_lSyBSZ"
      }
    },
    {
      "cell_type": "code",
      "source": [
        "arr1 = np.random.randint(1, 100, 10)\n",
        "\n",
        "arr2 = np.arange(1, 11)\n",
        "\n",
        "result = arr1 + arr2\n",
        "\n",
        "print(\"Array 1 (random integers):\")\n",
        "print(arr1)\n",
        "print(\"\\nArray 2 (integers from 1 to 10):\")\n",
        "print(arr2)\n",
        "print(\"\\nResult of element-wise addition:\")\n",
        "print(result)"
      ],
      "metadata": {
        "id": "UaDXO71syPaM"
      },
      "execution_count": null,
      "outputs": []
    },
    {
      "cell_type": "markdown",
      "source": [
        "#Q52. Generate a NumPy array arr1 with sequential integers from 10 to 1 and another array arr2 with integers from 1 to 10. Subtract arr2 from arr1 element-wise.\n",
        "\n",
        "Answer :-"
      ],
      "metadata": {
        "id": "74DS7e3_0wpd"
      }
    },
    {
      "cell_type": "code",
      "source": [
        "arr1 = np.arange(10, 0, -1)\n",
        "\n",
        "arr2 = np.arange(1, 11)\n",
        "\n",
        "result = arr1 - arr2\n",
        "\n",
        "print(\"Array 1 (sequential integers from 10 to 1):\")\n",
        "print(arr1)\n",
        "print(\"\\nArray 2 (integers from 1 to 10):\")\n",
        "print(arr2)\n",
        "print(\"\\nResult of element-wise subtraction (arr1 - arr2):\")\n",
        "print(result)"
      ],
      "metadata": {
        "id": "Sypjc0LD04BZ"
      },
      "execution_count": null,
      "outputs": []
    },
    {
      "cell_type": "markdown",
      "source": [
        "#Q53. Create a NumPy array arr1 with random integers and another array arr2 with integers from 1 to 5. Perform element-wise multiplication between arr1 and arr2.\n",
        "\n",
        "Answer :-"
      ],
      "metadata": {
        "id": "8LoizGPR1hye"
      }
    },
    {
      "cell_type": "code",
      "source": [
        "arr1 = np.random.randint(1, 100, 5)\n",
        "\n",
        "arr2 = np.arange(1, 6)\n",
        "\n",
        "result = arr1 * arr2\n",
        "\n",
        "print(\"Array 1 (random integers):\")\n",
        "print(arr1)\n",
        "print(\"\\nArray 2 (integers from 1 to 5):\")\n",
        "print(arr2)\n",
        "print(\"\\nResult of element-wise multiplication:\")\n",
        "print(result)"
      ],
      "metadata": {
        "id": "KR7GK-851vNJ"
      },
      "execution_count": null,
      "outputs": []
    },
    {
      "cell_type": "markdown",
      "source": [
        "#Q54. Generate a NumPy array arr1 with even integers from 2 to 10 and another array arr2 with integers from 1 to 5. Perform element-wise division of arr1 by arr2.\n",
        "\n",
        "Answer :-"
      ],
      "metadata": {
        "id": "M-xR7NL72tq-"
      }
    },
    {
      "cell_type": "code",
      "source": [
        "arr1 = np.arange(2, 11, 2)\n",
        "\n",
        "arr2 = np.arange(1,6)\n",
        "\n",
        "result = arr1/arr2\n",
        "\n",
        "print(\"Array 1 (Even integers from 2 to 10):\")\n",
        "print(arr1)\n",
        "print(\"\\nArray 2 (integers from 1 to 5):\")\n",
        "print(arr2)\n",
        "print(\"\\nResult of element-wise devision:\")\n",
        "print(result)"
      ],
      "metadata": {
        "id": "4ltLV0xs26Zi"
      },
      "execution_count": null,
      "outputs": []
    },
    {
      "cell_type": "markdown",
      "source": [
        "#Q55. Create a NumPy array arr1 with integers from 1 to 5 and another array arr2 with the same numbers reversed. Calculate the exponentiation of arr1 raised to the power of arr2 element-wise.\n",
        "\n",
        "Answer :-"
      ],
      "metadata": {
        "id": "ExXsLpet4OTE"
      }
    },
    {
      "cell_type": "code",
      "source": [
        "arr1 = np.arange(1, 6)\n",
        "\n",
        "arr2 = arr1[::-1]\n",
        "\n",
        "result = arr1 ** arr2\n",
        "\n",
        "print(\"Array 1 (integers from 1 to 5):\")\n",
        "print(arr1)\n",
        "print(\"\\nArray 2 (integers from 5 to 1):\")\n",
        "print(arr2)\n",
        "print(\"\\nResult of element-wise exponentiation (arr1 ** arr2):\")\n",
        "print(result)"
      ],
      "metadata": {
        "id": "XuCXWZcy4c_V"
      },
      "execution_count": null,
      "outputs": []
    },
    {
      "cell_type": "markdown",
      "source": [
        "#Q56. Write a function that counts the occurrences of a specific substring within a NumPy array of strings.\n",
        "#arr = np.array(['hello', 'world', 'hello', 'numpy', 'hello'])\n",
        "\n",
        "Answer :-"
      ],
      "metadata": {
        "id": "rYyMH-we5VMq"
      }
    },
    {
      "cell_type": "code",
      "source": [
        "def count_substring(arr, substring):\n",
        "  counts = np.char.count(arr, substring)\n",
        "  total_count = np.sum(counts)\n",
        "  return total_count\n",
        "\n",
        "arr = np.array(['hello', 'world', 'hello', 'numpy', 'hello'])\n",
        "\n",
        "substring = 'hello'\n",
        "\n",
        "occurrences = count_substring(arr, substring)\n",
        "\n",
        "print(f\"The substring '{substring}' occurs {occurrences} times in the array.\")"
      ],
      "metadata": {
        "id": "mNx2fOSp5jdx"
      },
      "execution_count": null,
      "outputs": []
    },
    {
      "cell_type": "markdown",
      "source": [
        "#Q57. Write a function that extracts uppercase characters from a NumPy array of strings.\n",
        "#arr = np.array(['Hello', 'World', 'OpenAI', 'GPT'])\n",
        "\n",
        "Answer :-"
      ],
      "metadata": {
        "id": "C-07IdY56JwO"
      }
    },
    {
      "cell_type": "code",
      "source": [
        "def extract_uppercase(arr):\n",
        "  def get_uppercase(s):\n",
        "    return ''.join([char for char in s if char.isupper()])\n",
        "\n",
        "  vectorized_get_uppercase = np.vectorize(get_uppercase)\n",
        "\n",
        "  uppercase_chars = vectorized_get_uppercase(arr)\n",
        "\n",
        "  return uppercase_chars\n",
        "\n",
        "arr = np.array(['Hello', 'World', 'OpenAI', 'GPT'])\n",
        "\n",
        "uppercase_characters = extract_uppercase(arr)\n",
        "\n",
        "print(\"Uppercase characters extracted from the array:\")\n",
        "print(uppercase_characters)"
      ],
      "metadata": {
        "id": "EkJ-2ViZ6acn"
      },
      "execution_count": null,
      "outputs": []
    },
    {
      "cell_type": "markdown",
      "source": [
        "#Q58. Write a function that replaces occurrences of a substring in a NumPy array of strings with a new string.\n",
        "#arr = np.array(['apple', 'banana', 'grape', 'pineapple'])\n",
        "\n",
        "Answer :-"
      ],
      "metadata": {
        "id": "23tAjJTo9fsH"
      }
    },
    {
      "cell_type": "code",
      "source": [
        "def replace_substring(arr, old_substring, new_substring):\n",
        "  replaced_arr = np.char.replace(arr, old_substring, new_substring)\n",
        "  return replaced_arr\n",
        "\n",
        "arr = np.array(['apple', 'banana', 'grape', 'pineapple'])\n",
        "\n",
        "old_substring = 'apple'\n",
        "new_substring = 'orange'\n",
        "\n",
        "new_arr = replace_substring(arr, old_substring, new_substring)\n",
        "\n",
        "print(\"Array after replacing occurrences of 'apple' with 'orange':\")\n",
        "print(new_arr)"
      ],
      "metadata": {
        "id": "-NC9DmjT9sqz"
      },
      "execution_count": null,
      "outputs": []
    },
    {
      "cell_type": "markdown",
      "source": [
        "#Q59. Write a function that concatenates strings in a NumPy array element-wise.\n",
        "#arr1 = np.array(['Hello', 'World'])\n",
        "#arr2 = np.array(['Open', 'AI'])\n",
        "\n",
        "Answer :-"
      ],
      "metadata": {
        "id": "F1SFU4gC-KwU"
      }
    },
    {
      "cell_type": "code",
      "source": [
        "def concatenate_strings(arr1, arr2):\n",
        "  concatenated_arr = np.char.add(arr1, arr2)\n",
        "  return concatenated_arr\n",
        "\n",
        "arr1 = np.array(['Hello', 'World'])\n",
        "arr2 = np.array(['Open', 'AI'])\n",
        "\n",
        "concatenated_arr = concatenate_strings(arr1, arr2)\n",
        "\n",
        "print(\"Array after concatenation:\")\n",
        "print(concatenated_arr)"
      ],
      "metadata": {
        "id": "qn7IG3mZ-Wax"
      },
      "execution_count": null,
      "outputs": []
    },
    {
      "cell_type": "markdown",
      "source": [
        "#Q60. Write a function that finds the length of the longest string in a NumPy array.\n",
        "#arr = np.array(['apple', 'banana', 'grape', 'pineapple'])\n",
        "\n",
        "Answer :-"
      ],
      "metadata": {
        "id": "cpd-tZir_kMi"
      }
    },
    {
      "cell_type": "code",
      "source": [
        "\n",
        "def longest_string_length(arr):\n",
        "  lengths = np.vectorize(len)(arr)\n",
        "  max_length = np.max(lengths)\n",
        "  return max_length\n",
        "\n",
        "arr = np.array(['apple', 'banana', 'grape', 'pineapple'])\n",
        "\n",
        "max_length = longest_string_length(arr)\n",
        "\n",
        "print(\"Length of the longest string:\", max_length)"
      ],
      "metadata": {
        "id": "sZW96uxz_rqv"
      },
      "execution_count": null,
      "outputs": []
    },
    {
      "cell_type": "markdown",
      "source": [
        "#Q61. Create a dataset of 100 random integers between 1 and 1000. Compute the mean, median, variance, and standard deviation of the dataset using NumPy's functions.\n",
        "\n",
        "Answer :-"
      ],
      "metadata": {
        "id": "OP-ivnuoA7M9"
      }
    },
    {
      "cell_type": "code",
      "source": [
        "np.random.seed(42)\n",
        "\n",
        "dataset = np.random.randint(1, 1001, size=100)\n",
        "\n",
        "mean = np.mean(dataset)\n",
        "\n",
        "median = np.median(dataset)\n",
        "\n",
        "variance = np.var(dataset)\n",
        "\n",
        "std_deviation = np.std(dataset)\n",
        "\n",
        "print(\"Dataset:\", dataset)\n",
        "print(\"Mean:\", mean)\n",
        "print(\"Median:\", median)\n",
        "print(\"Variance:\", variance)\n",
        "print(\"Standard Deviation:\", std_deviation)"
      ],
      "metadata": {
        "id": "4L2pGCvHBETZ"
      },
      "execution_count": null,
      "outputs": []
    },
    {
      "cell_type": "markdown",
      "source": [
        "#Q62. Generate an array of 50 random numbers between 1 and 100. Find the 25th and 75th percentiles of the dataset.\n",
        "\n",
        "Answer :-"
      ],
      "metadata": {
        "id": "wP_HBi1aDC_U"
      }
    },
    {
      "cell_type": "code",
      "source": [
        "np.random.seed(42)\n",
        "\n",
        "dataset = np.random.randint(1, 101, size=50)\n",
        "\n",
        "percentile_25 = np.percentile(dataset, 25)\n",
        "percentile_75 = np.percentile(dataset, 75)\n",
        "\n",
        "print(\"Dataset:\", dataset)\n",
        "print(\"25th Percentile:\", percentile_25)\n",
        "print(\"75th Percentile:\", percentile_75)"
      ],
      "metadata": {
        "id": "mkC8s6ZwDNis"
      },
      "execution_count": null,
      "outputs": []
    },
    {
      "cell_type": "markdown",
      "source": [
        "#Q63. Create two arrays representing two sets of variables. Compute the correlation coefficient between these arrays using NumPy's corrcoef function.\n",
        "\n",
        "Answer :-"
      ],
      "metadata": {
        "id": "QGG40s5LDvCV"
      }
    },
    {
      "cell_type": "code",
      "source": [
        "np.random.seed(42)\n",
        "\n",
        "array1 = np.random.rand(100)\n",
        "array2 = np.random.rand(100)\n",
        "\n",
        "correlation_coefficient = np.corrcoef(array1, array2)[0, 1]\n",
        "\n",
        "print(\"Correlation Coefficient:\", correlation_coefficient)"
      ],
      "metadata": {
        "id": "q0PdNB10D3jt"
      },
      "execution_count": null,
      "outputs": []
    },
    {
      "cell_type": "markdown",
      "source": [
        "#Q64. Create two matrices and perform matrix multiplication using NumPy's dot function.\n",
        "\n",
        "Answer :-"
      ],
      "metadata": {
        "id": "3ZKqNC-6E2kK"
      }
    },
    {
      "cell_type": "code",
      "source": [
        "matrix1 = np.array([[1, 2, 3],\n",
        "                    [4, 5, 6]])\n",
        "\n",
        "matrix2 = np.array([[7, 8],\n",
        "                    [9, 10],\n",
        "                    [11, 12]])\n",
        "\n",
        "result = np.dot(matrix1, matrix2)\n",
        "\n",
        "print(\"Matrix 1:\")\n",
        "print(matrix1)\n",
        "print(\"\\nMatrix 2:\")\n",
        "print(matrix2)\n",
        "print(\"\\nResult of matrix multiplication:\")\n",
        "print(result)"
      ],
      "metadata": {
        "id": "pSm6Kid_E9b-"
      },
      "execution_count": null,
      "outputs": []
    },
    {
      "cell_type": "markdown",
      "source": [
        "#Q65. Create an array of 50 integers between 10 and 1000. Calculate the 10th, 50th (median), and 90th percentiles along with the first and third quartiles.\n",
        "\n",
        "Answer :-"
      ],
      "metadata": {
        "id": "U3tCpqvFFmwU"
      }
    },
    {
      "cell_type": "code",
      "source": [
        "np.random.seed(42)\n",
        "\n",
        "data = np.random.randint(10, 1001, size=50)\n",
        "\n",
        "percentiles = np.percentile(data, [10, 25, 50, 75, 90])\n",
        "first_quartile = np.percentile(data, 25)\n",
        "third_quartile = np.percentile(data, 75)\n",
        "\n",
        "print(\"Data:\", data)\n",
        "print(\"10th Percentile:\", percentiles[0])\n",
        "print(\"25th Percentile (First Quartile):\", first_quartile)\n",
        "print(\"50th Percentile (Median):\", percentiles[2])\n",
        "print(\"75th Percentile (Third Quartile):\", third_quartile)\n",
        "print(\"90th Percentile:\", percentiles[4])"
      ],
      "metadata": {
        "id": "GNM92u_zFvGq"
      },
      "execution_count": null,
      "outputs": []
    },
    {
      "cell_type": "markdown",
      "source": [
        "#Q66. Create a NumPy array of integers and find the index of a specific element.\n",
        "\n",
        "Answer :-"
      ],
      "metadata": {
        "id": "Q8AaZ9lHHGyU"
      }
    },
    {
      "cell_type": "code",
      "source": [
        "arr = np.array([1, 5, 8, 12, 5, 6, 8, 5])\n",
        "\n",
        "element_to_find = 8\n",
        "indices = np.where(arr == element_to_find)\n",
        "\n",
        "print(\"Indices of\", element_to_find, \":\", indices[0])"
      ],
      "metadata": {
        "id": "ujl5j92XHNeC"
      },
      "execution_count": null,
      "outputs": []
    },
    {
      "cell_type": "markdown",
      "source": [
        "#Q67. Generate a random NumPy array and sort it in ascending order.\n",
        "\n",
        "Answer :-"
      ],
      "metadata": {
        "id": "ANGVO4M4Hw7J"
      }
    },
    {
      "cell_type": "code",
      "source": [
        "arr = np.random.rand(10)\n",
        "\n",
        "sorted_array = np.sort(arr)\n",
        "\n",
        "print(\"Original Array:\")\n",
        "print(arr)\n",
        "print(\"\\nSorted Array (in ascending order):\")\n",
        "print(sorted_array)"
      ],
      "metadata": {
        "id": "5eRm74ruIMmi"
      },
      "execution_count": null,
      "outputs": []
    },
    {
      "cell_type": "markdown",
      "source": [
        "#Q68. Filter elements >20  in the given NumPy array.\n",
        "#arr = np.array([12, 25, 6, 42, 8, 30])\n",
        "\n",
        "Answer :-"
      ],
      "metadata": {
        "id": "bPZYPbjgwUr6"
      }
    },
    {
      "cell_type": "code",
      "source": [
        "arr = np.array([12, 25, 6, 42, 8, 30])\n",
        "\n",
        "filtered_arr = arr[arr > 20]\n",
        "\n",
        "print(filtered_arr)"
      ],
      "metadata": {
        "id": "kIqIywmQwfmO"
      },
      "execution_count": null,
      "outputs": []
    },
    {
      "cell_type": "markdown",
      "source": [
        "#Q69. Filter elements which are divisible by 3 from a given NumPy array.\n",
        "#arr = np.array([1, 5, 8, 12, 15])\n",
        "\n",
        "Answer :-"
      ],
      "metadata": {
        "id": "rzLmxIEQw0px"
      }
    },
    {
      "cell_type": "code",
      "source": [
        "arr = np.array([1, 5, 8, 12, 15])\n",
        "\n",
        "divide_by_3 = arr[arr % 3 == 0]\n",
        "\n",
        "print(divide_by_3)"
      ],
      "metadata": {
        "id": "Q6iyWT8sxAIx"
      },
      "execution_count": null,
      "outputs": []
    },
    {
      "cell_type": "markdown",
      "source": [
        "#Q70. Filter elements which are ≥ 20 and ≤ 40 from a given NumPy array.\n",
        "#arr = np.array([10, 20, 30, 40, 50])\n",
        "\n",
        "Answer :-"
      ],
      "metadata": {
        "id": "xtd0SMduxhFL"
      }
    },
    {
      "cell_type": "code",
      "source": [
        "arr = np.array([10, 20, 30, 40, 50])\n",
        "\n",
        "filtered_elements = arr[(arr >= 20) & (arr <= 40)]\n",
        "\n",
        "print(filtered_elements)"
      ],
      "metadata": {
        "id": "qLiUtvcXxnu4"
      },
      "execution_count": null,
      "outputs": []
    },
    {
      "cell_type": "markdown",
      "source": [
        "#Q71. For the given NumPy array, check its byte order using the dtype attribute byteorder.\n",
        "#arr = np.array([1, 2, 3])\n",
        "\n",
        "Answer :-"
      ],
      "metadata": {
        "id": "75HDuxziyPw8"
      }
    },
    {
      "cell_type": "code",
      "source": [
        "arr = np.array([1, 2, 3])\n",
        "\n",
        "byte_order = arr.dtype.byteorder\n",
        "\n",
        "print(byte_order)"
      ],
      "metadata": {
        "id": "pUVoJV8uyZIR"
      },
      "execution_count": null,
      "outputs": []
    },
    {
      "cell_type": "markdown",
      "source": [
        "#Q72. For the given NumPy array, perform byte swapping in place using byteswap().\n",
        "#arr = np.array([1, 2, 3], dtype=np.int32)\n",
        "\n",
        "Answer :-"
      ],
      "metadata": {
        "id": "hnG_0NJ4ywWC"
      }
    },
    {
      "cell_type": "code",
      "source": [
        "arr = np.array([1, 2, 3], dtype=np.int32)\n",
        "\n",
        "arr.byteswap(inplace=True)\n",
        "\n",
        "print(arr)"
      ],
      "metadata": {
        "id": "v-gKApa8y8kC"
      },
      "execution_count": null,
      "outputs": []
    },
    {
      "cell_type": "markdown",
      "source": [
        "#Q73. For the given NumPy array, swap its byte order without modifying the original array using newbyteorder().\n",
        "#arr = np.array([1, 2, 3], dtype=np.int32)\n",
        "\n",
        "Answer :-"
      ],
      "metadata": {
        "id": "nRgSJLiyzMsy"
      }
    },
    {
      "cell_type": "code",
      "source": [
        "arr = np.array([1, 2, 3], dtype=np.int32)\n",
        "\n",
        "swapped_arr = arr.newbyteorder()\n",
        "\n",
        "print(\"Original array:\", arr)\n",
        "print(\"Byte-swapped array:\", swapped_arr)"
      ],
      "metadata": {
        "id": "fjnIiL9AzZJA"
      },
      "execution_count": null,
      "outputs": []
    },
    {
      "cell_type": "markdown",
      "source": [
        "#Q75. For the given NumPy array, check if byte swapping is necessary for the current system using dtype attribute byteorder.\n",
        "#arr = np.array([1, 2, 3], dtype=np.int32)\n",
        "\n",
        "Answer :-"
      ],
      "metadata": {
        "id": "WlA0PRJrzy-x"
      }
    },
    {
      "cell_type": "code",
      "source": [
        "arr = np.array([1, 2, 3], dtype=np.int32)\n",
        "\n",
        "array_byteorder = arr.dtype.byteorder\n",
        "\n",
        "system_endian = '='\n",
        "\n",
        "if array_byteorder in ('<', '>'):\n",
        "  swap_needed = array_byteorder != system_endian\n",
        "else:\n",
        "  swap_needed = False\n",
        "\n",
        "print(\"Is byte swapping necessary?\", swap_needed)"
      ],
      "metadata": {
        "id": "_yF3mweU1Bt5"
      },
      "execution_count": null,
      "outputs": []
    },
    {
      "cell_type": "markdown",
      "source": [
        "#Q76. Create a NumPy array arr1 with values from 1 to 10. Create a copy of arr1 named copy_arr and modify an element in copy_arr. Check if modifying copy_arr affects arr1.\n",
        "\n",
        "Answer :-"
      ],
      "metadata": {
        "id": "MWuEeXBh1gz8"
      }
    },
    {
      "cell_type": "code",
      "source": [
        "arr1 = np.arange(1, 11)\n",
        "\n",
        "copy_arr = arr1.copy()\n",
        "\n",
        "copy_arr[0] = 99\n",
        "\n",
        "print(\"Original array (arr1):\", arr1)\n",
        "print(\"Modified copy (copy_arr):\", copy_arr)"
      ],
      "metadata": {
        "id": "7Fuq2Cjd14GM"
      },
      "execution_count": null,
      "outputs": []
    },
    {
      "cell_type": "markdown",
      "source": [
        "#Q77. Create a 2D NumPy array matrix of shape (3, 3) with random integers. Extract a slice view_slice from the matrix. Modify an element in view_slice and observe if it changes the original matrix.\n",
        "\n",
        "Answer :-"
      ],
      "metadata": {
        "id": "jK4YS5hx2UK7"
      }
    },
    {
      "cell_type": "code",
      "source": [
        "matrix = np.random.randint(0, 10, size=(3, 3))\n",
        "\n",
        "print(\"Original Matrix:\")\n",
        "print(matrix)\n",
        "print()\n",
        "\n",
        "view_slice = matrix[:2, :2]\n",
        "\n",
        "print(\"Slice View:\")\n",
        "print(view_slice)\n",
        "print()\n",
        "\n",
        "view_slice[0, 0] = 100\n",
        "\n",
        "print(\"Modified Slice View:\")\n",
        "print(view_slice)\n",
        "print()\n",
        "\n",
        "print(\"Original Matrix After Modification:\")\n",
        "print(matrix)"
      ],
      "metadata": {
        "id": "flpiChMs2qNe"
      },
      "execution_count": null,
      "outputs": []
    },
    {
      "cell_type": "markdown",
      "source": [
        "#Q78. Create a NumPy array array_a of shape (4, 3) with sequential integers from 1 to 12. Extract a slice view_b from array_a and broadcast the addition of 5 to view_b. Check if it alters the original array_a.\n",
        "\n",
        "Answer :-"
      ],
      "metadata": {
        "id": "nASH0Itr3jOT"
      }
    },
    {
      "cell_type": "code",
      "source": [
        "array_a = np.arange(1, 13).reshape(4, 3)\n",
        "\n",
        "print(\"Original Array (array_a):\")\n",
        "print(array_a)\n",
        "print()\n",
        "\n",
        "view_b = array_a[:2, :2]\n",
        "\n",
        "print(\"Slice View (view_b):\")\n",
        "print(view_b)\n",
        "print()\n",
        "\n",
        "view_b += 5\n",
        "\n",
        "print(\"Modified Slice View (view_b) after adding 5:\")\n",
        "print(view_b)\n",
        "print()\n",
        "\n",
        "print(\"Original Array (array_a) after modification:\")\n",
        "print(array_a)"
      ],
      "metadata": {
        "id": "xcmoAyz33x28"
      },
      "execution_count": null,
      "outputs": []
    },
    {
      "cell_type": "markdown",
      "source": [
        "#Q79. Create a NumPy array orig_array of shape (2, 4) with values from 1 to 8. Create a reshaped view reshaped_view of shape (4, 2) from orig_array. Modify an element in reshaped_view and check if it reflects changes in the original orig_array.\n",
        "\n",
        "Answer :-"
      ],
      "metadata": {
        "id": "uBZP5L8t4VBM"
      }
    },
    {
      "cell_type": "code",
      "source": [
        "orig_array = np.arange(1, 9).reshape(2, 4)\n",
        "print(\"Original Array:\")\n",
        "print(orig_array)\n",
        "\n",
        "reshaped_view = orig_array.reshape(4, 2)\n",
        "print(\"\\nReshaped View:\")\n",
        "print(reshaped_view)\n",
        "\n",
        "reshaped_view[1, 1] = 99\n",
        "print(\"\\nReshaped View after modification:\")\n",
        "print(reshaped_view)\n",
        "\n",
        "print(\"\\nOriginal Array after modification in the reshaped view:\")\n",
        "print(orig_array)"
      ],
      "metadata": {
        "id": "M3j0E6304uKM"
      },
      "execution_count": null,
      "outputs": []
    },
    {
      "cell_type": "markdown",
      "source": [
        "#Q80. Create a NumPy array data of shape (3, 4) with random integers. Extract a copy data_copy of elements greater than 5. Modify an element in data_copy and verify if it affects the original data.\n",
        "\n",
        "Answer :-"
      ],
      "metadata": {
        "id": "WFKMPLKa5Mh7"
      }
    },
    {
      "cell_type": "code",
      "source": [
        "np.random.seed(0)\n",
        "data = np.random.randint(1, 11, size=(3, 4))\n",
        "print(\"Original Data Array:\")\n",
        "print(data)\n",
        "\n",
        "data_copy = data[data > 5].copy()\n",
        "print(\"\\nData Copy (elements > 5):\")\n",
        "print(data_copy)\n",
        "\n",
        "data_copy[0] = 99\n",
        "print(\"\\nData Copy after modification:\")\n",
        "print(data_copy)\n",
        "\n",
        "print(\"\\nOriginal Data Array after modification in the data copy:\")\n",
        "print(data)"
      ],
      "metadata": {
        "id": "IiPH2YqU5anN"
      },
      "execution_count": null,
      "outputs": []
    },
    {
      "cell_type": "markdown",
      "source": [
        "#Q81. Create two matrices A and B of identical shape containing integers and perform addition and subtraction operations between them.\n",
        "\n",
        "Answer :-"
      ],
      "metadata": {
        "id": "lZiji5yb6BdW"
      }
    },
    {
      "cell_type": "code",
      "source": [
        "A = np.array([[1, 2, 3], [4, 5, 6], [7, 8, 9]])\n",
        "print(\"Matrix A:\")\n",
        "print(A)\n",
        "\n",
        "B = np.array([[9, 8, 7], [6, 5, 4], [3, 2, 1]])\n",
        "print(\"\\nMatrix B:\")\n",
        "print(B)\n",
        "\n",
        "addition_result = A + B\n",
        "print(\"\\nAddition of A and B (A + B):\")\n",
        "print(addition_result)\n",
        "\n",
        "subtraction_result = A - B\n",
        "print(\"\\nSubtraction of A and B (A - B):\")\n",
        "print(subtraction_result)"
      ],
      "metadata": {
        "id": "EQK_S1LH6LHJ"
      },
      "execution_count": null,
      "outputs": []
    },
    {
      "cell_type": "markdown",
      "source": [
        "#Q82. Generate two matrices C (3x2) and D (2x4) and perform matrix multiplication.\n",
        "\n",
        "Answer :-"
      ],
      "metadata": {
        "id": "bzAYZDCp6mdm"
      }
    },
    {
      "cell_type": "code",
      "source": [
        "C = np.array([[1, 2],\n",
        "              [3, 4],\n",
        "              [5, 6]])\n",
        "print(\"Matrix C:\")\n",
        "print(C)\n",
        "\n",
        "D = np.array([[7, 8, 9, 10],\n",
        "              [11, 12, 13, 14]])\n",
        "print(\"\\nMatrix D:\")\n",
        "print(D)\n",
        "\n",
        "result = np.dot(C, D)\n",
        "print(\"\\nMatrix Multiplication of C and D (C * D):\")\n",
        "print(result)"
      ],
      "metadata": {
        "id": "aPmnmDEG6ueQ"
      },
      "execution_count": null,
      "outputs": []
    },
    {
      "cell_type": "markdown",
      "source": [
        "#Q83. Create a matrix E and find its transpose.\n",
        "\n",
        "Answer :-"
      ],
      "metadata": {
        "id": "ibqMRn-07DXF"
      }
    },
    {
      "cell_type": "code",
      "source": [
        "E = np.array([[1, 2, 3],\n",
        "              [4, 5, 6],\n",
        "              [7, 8, 9]])\n",
        "print(\"Matrix E:\")\n",
        "print(E)\n",
        "\n",
        "E_transpose = E.T\n",
        "print(\"\\nTranspose of Matrix E:\")\n",
        "print(E_transpose)"
      ],
      "metadata": {
        "id": "ZxRbT2Fe7NIK"
      },
      "execution_count": null,
      "outputs": []
    },
    {
      "cell_type": "markdown",
      "source": [
        "#Q84. Generate a square matrix F and compute its determinant.\n",
        "\n",
        "Answer :-"
      ],
      "metadata": {
        "id": "_cNFcrgu7XAi"
      }
    },
    {
      "cell_type": "code",
      "source": [
        "F = np.array([[4, 3, 2],\n",
        "              [3, 2, 1],\n",
        "              [1, 1, 1]])\n",
        "print(\"Matrix F:\")\n",
        "print(F)\n",
        "\n",
        "det_F = np.linalg.det(F)\n",
        "print(\"\\nDeterminant of Matrix F:\")\n",
        "print(det_F)"
      ],
      "metadata": {
        "id": "KSNqbWeU7gRo"
      },
      "execution_count": null,
      "outputs": []
    },
    {
      "cell_type": "markdown",
      "source": [
        "#Q85. Create a square matrix G and find its inverse.\n",
        "\n",
        "Answer :-"
      ],
      "metadata": {
        "id": "yPhbky6z7zrG"
      }
    },
    {
      "cell_type": "code",
      "source": [
        "G = np.array([[4, 7],\n",
        "              [2, 6]])\n",
        "print(\"Matrix G:\")\n",
        "print(G)\n",
        "\n",
        "G_inverse = np.linalg.inv(G)\n",
        "print(\"\\nInverse of Matrix G:\")\n",
        "print(G_inverse)"
      ],
      "metadata": {
        "id": "4O9IDuJb79CR"
      },
      "execution_count": null,
      "outputs": []
    }
  ]
}